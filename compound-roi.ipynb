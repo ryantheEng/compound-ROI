{
 "metadata": {
  "language_info": {
   "codemirror_mode": {
    "name": "ipython",
    "version": 3
   },
   "file_extension": ".py",
   "mimetype": "text/x-python",
   "name": "python",
   "nbconvert_exporter": "python",
   "pygments_lexer": "ipython3",
   "version": "3.8.5"
  },
  "orig_nbformat": 2,
  "kernelspec": {
   "name": "python385jvsc74a57bd03df321b9eaf56a64feac71070fd48eda3ea5b4388dc29d543cdebb2a50fb1dfd",
   "display_name": "Python 3.8.5 64-bit"
  }
 },
 "nbformat": 4,
 "nbformat_minor": 2,
 "cells": [
  {
   "cell_type": "code",
   "execution_count": 57,
   "metadata": {},
   "outputs": [],
   "source": [
    "import utils\n",
    "interests = utils.loaddata(utils.interests)\n",
    "txs = utils.loaddata(utils.txs)\n",
    "list_txs = utils.group(txs)\n",
    "list_interests = utils.group(interests)\n",
    "del interests,txs"
   ]
  },
  {
   "cell_type": "code",
   "execution_count": 58,
   "metadata": {},
   "outputs": [],
   "source": [
    "list_txs = utils.reindex(list_txs)\n",
    "list_interests = utils.reindex(list_interests)\n",
    "list_txs[7] = list_txs[7].append(list_txs[8])\n",
    "del list_txs[8]"
   ]
  },
  {
   "cell_type": "code",
   "execution_count": 59,
   "metadata": {},
   "outputs": [],
   "source": [
    "list_txs.insert(6,list_txs[3])\n",
    "del list_txs[3]"
   ]
  },
  {
   "cell_type": "code",
   "execution_count": 60,
   "metadata": {},
   "outputs": [
    {
     "output_type": "stream",
     "name": "stderr",
     "text": [
      "d:\\Flipside\\2-compound-roi\\utils.py:43: RuntimeWarning: divide by zero encountered in double_scalars\n  x = comp[index]/val\n"
     ]
    }
   ],
   "source": [
    "avgcomps = utils.cOMPS(list_interests,list_txs)"
   ]
  },
  {
   "cell_type": "code",
   "execution_count": 61,
   "metadata": {},
   "outputs": [],
   "source": [
    "symbols = []\n",
    "for i in list_interests:\n",
    "    symbols.append(i['SYMBOL'][0])\n",
    "    # print(i['SYMBOL'][0])\n",
    "    comp_interest = []\n",
    "for i in avgcomps:\n",
    "    # print('31 Day Average COMP for different markets {:.4f}'.format(utils.np.mean(i)))\n",
    "    comp_interest.append(utils.np.mean(i))\n",
    "apys = []\n",
    "for i in list_interests:\n",
    "    # print('31 Day Average APY for different markets {:.4f}'.format(i['APY'].mean()))\n",
    "    apys.append(i['APY'].mean())"
   ]
  },
  {
   "cell_type": "code",
   "execution_count": 66,
   "metadata": {},
   "outputs": [
    {
     "output_type": "stream",
     "name": "stdout",
     "text": [
      "*****Market stats for the last 31 days*****\nMarket BAT: APY=0.62% || COMP accrued value/day=0.7006\nMarket COMP: APY=0.85% || COMP accrued value/day=0.1922\nMarket DAI: APY=5.61% || COMP accrued value/day=2.1700\nMarket UNI: APY=0.22% || COMP accrued value/day=0.0675\nMarket USDC: APY=7.89% || COMP accrued value/day=2.1528\nMarket USDT: APY=7.56% || COMP accrued value/day=0.3067\nMarket WBTC: APY=0.16% || COMP accrued value/day=0.1953\nMarket WETH: APY=0.12% || COMP accrued value/day=0.3864\nMarket ZRX: APY=0.82% || COMP accrued value/day=0.0529\n"
     ]
    }
   ],
   "source": [
    "print('*****Market stats for the last 31 days*****')\n",
    "for i in range(len(list_interests)):\n",
    "    print('Market {}: APY={:.2f}% || COMP accrued value/day={:.4f}'.format(symbols[i],apys[i]*100,comp_interest[i]))"
   ]
  },
  {
   "cell_type": "code",
   "execution_count": 68,
   "metadata": {},
   "outputs": [
    {
     "output_type": "stream",
     "name": "stdout",
     "text": [
      "*****Accrued Value after 31 Days on 100K deposit*****\nMarket BAT: $74.53 USD\nMarket COMP: $78.19 USD\nMarket DAI: $543.42 USD\nMarket UNI: $21.05 USD\nMarket USDC: $736.53 USD\nMarket USDT: $651.61 USD\nMarket WBTC: $19.29 USD\nMarket WETH: $22.17 USD\nMarket ZRX: $70.92 USD\n"
     ]
    }
   ],
   "source": [
    "print('*****Accrued Value after 31 Days on 100K deposit*****')\n",
    "x = []\n",
    "for i in range(len(list_interests)):\n",
    "    tv = 100000 * apys[i]/365*31 + 31*comp_interest[i]\n",
    "    x.append(tv)\n",
    "    print('Market {}: ${:.2f} USD'.format(symbols[i],tv))"
   ]
  },
  {
   "cell_type": "code",
   "execution_count": 79,
   "metadata": {},
   "outputs": [
    {
     "output_type": "stream",
     "name": "stdout",
     "text": [
      "*****Expected ROI after 31 Days*****\nMarket BAT: expected ROI = 0.07\nMarket COMP: expected ROI = 0.08\nMarket DAI: expected ROI = 0.54\nMarket UNI: expected ROI = 0.02\nMarket USDC: expected ROI = 0.74\nMarket USDT: expected ROI = 0.65\nMarket WBTC: expected ROI = 0.02\nMarket WETH: expected ROI = 0.02\nMarket ZRX: expected ROI = 0.07\n"
     ]
    }
   ],
   "source": [
    "print('*****Expected ROI after 31 Days*****')\n",
    "for i in range(len(x)):\n",
    "    roi = x[i]/100000*100\n",
    "    print('Market {}: expected ROI = {:.2f}'.format(symbols[i],roi))"
   ]
  },
  {
   "cell_type": "code",
   "execution_count": 80,
   "metadata": {},
   "outputs": [
    {
     "output_type": "stream",
     "name": "stdout",
     "text": [
      "*****Expected ROI after 1 Year*****\nMarket BAT: expected ROI = 0.88\nMarket COMP: expected ROI = 0.92\nMarket DAI: expected ROI = 6.40\nMarket UNI: expected ROI = 0.25\nMarket USDC: expected ROI = 8.67\nMarket USDT: expected ROI = 7.67\nMarket WBTC: expected ROI = 0.23\nMarket WETH: expected ROI = 0.26\nMarket ZRX: expected ROI = 0.84\n"
     ]
    }
   ],
   "source": [
    "print('*****Expected ROI after 1 Year*****')\n",
    "for i in range(len(x)):\n",
    "    tv = 100000 * apys[i] + 365*comp_interest[i]\n",
    "    roi = tv/100000*100\n",
    "    print('Market {}: expected ROI = {:.2f}'.format(symbols[i],roi))"
   ]
  },
  {
   "cell_type": "code",
   "execution_count": null,
   "metadata": {},
   "outputs": [],
   "source": []
  }
 ]
}