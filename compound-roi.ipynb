{
 "metadata": {
  "language_info": {
   "codemirror_mode": {
    "name": "ipython",
    "version": 3
   },
   "file_extension": ".py",
   "mimetype": "text/x-python",
   "name": "python",
   "nbconvert_exporter": "python",
   "pygments_lexer": "ipython3",
   "version": "3.8.5"
  },
  "orig_nbformat": 2,
  "kernelspec": {
   "name": "python385jvsc74a57bd03df321b9eaf56a64feac71070fd48eda3ea5b4388dc29d543cdebb2a50fb1dfd",
   "display_name": "Python 3.8.5 64-bit"
  }
 },
 "nbformat": 4,
 "nbformat_minor": 2,
 "cells": [
  {
   "cell_type": "code",
   "execution_count": 24,
   "metadata": {},
   "outputs": [],
   "source": [
    "import utils\n",
    "interests = utils.loaddata(utils.interests)\n",
    "txs = utils.loaddata(utils.txs)\n",
    "list_txs = utils.group(txs)\n",
    "list_interests = utils.group(interests)\n",
    "del interests,txs"
   ]
  },
  {
   "cell_type": "code",
   "execution_count": 25,
   "metadata": {},
   "outputs": [],
   "source": [
    "list_txs = utils.reindex(list_txs)\n",
    "list_interests = utils.reindex(list_interests)\n",
    "list_txs[7] = list_txs[7].append(list_txs[8])\n",
    "del list_txs[8]"
   ]
  },
  {
   "cell_type": "code",
   "execution_count": 26,
   "metadata": {},
   "outputs": [],
   "source": [
    "list_txs.insert(6,list_txs[3])\n",
    "del list_txs[3]"
   ]
  },
  {
   "cell_type": "code",
   "execution_count": 27,
   "metadata": {},
   "outputs": [
    {
     "output_type": "stream",
     "name": "stderr",
     "text": [
      "d:\\Flipside\\2-compound-roi\\utils.py:43: RuntimeWarning: divide by zero encountered in double_scalars\n  x = comp[index]/val\n"
     ]
    }
   ],
   "source": [
    "avgcomps = utils.cOMPS(list_interests,list_txs)"
   ]
  },
  {
   "cell_type": "code",
   "execution_count": 28,
   "metadata": {},
   "outputs": [
    {
     "output_type": "stream",
     "name": "stdout",
     "text": [
      "BAT\nCOMP\nDAI\nUNI\nUSDC\nUSDT\nWBTC\nWETH\nZRX\n"
     ]
    }
   ],
   "source": [
    "symbols = []\n",
    "for i in list_interests:\n",
    "    symbols.append(i['SYMBOL'][0])\n",
    "    # print(i['SYMBOL'][0])"
   ]
  },
  {
   "cell_type": "code",
   "execution_count": 29,
   "metadata": {},
   "outputs": [
    {
     "output_type": "stream",
     "name": "stdout",
     "text": [
      "31 Day Average COMP for different markets 0.7006\n31 Day Average COMP for different markets 0.1922\n31 Day Average COMP for different markets 2.1700\n31 Day Average COMP for different markets 0.0675\n31 Day Average COMP for different markets 2.1528\n31 Day Average COMP for different markets 0.3067\n31 Day Average COMP for different markets 0.1953\n31 Day Average COMP for different markets 0.3864\n31 Day Average COMP for different markets 0.0529\n"
     ]
    }
   ],
   "source": [
    "comp_interest = []\n",
    "for i in avgcomps:\n",
    "    # print('31 Day Average COMP for different markets {:.4f}'.format(utils.np.mean(i)))\n",
    "    comp_interest.append(utils.np.mean(i))"
   ]
  },
  {
   "cell_type": "code",
   "execution_count": 37,
   "metadata": {},
   "outputs": [
    {
     "output_type": "stream",
     "name": "stdout",
     "text": [
      "31 Day Average COMP for different markets 0.0062\n31 Day Average COMP for different markets 0.0085\n31 Day Average COMP for different markets 0.0561\n31 Day Average COMP for different markets 0.0022\n31 Day Average COMP for different markets 0.0789\n31 Day Average COMP for different markets 0.0756\n31 Day Average COMP for different markets 0.0016\n31 Day Average COMP for different markets 0.0012\n31 Day Average COMP for different markets 0.0082\n"
     ]
    }
   ],
   "source": [
    "apys = []\n",
    "for i in list_interests:\n",
    "    # print('31 Day Average APY for different markets {:.4f}'.format(i['APY'].mean()))\n",
    "    apys.append(i['APY'].mean())"
   ]
  },
  {
   "cell_type": "code",
   "execution_count": null,
   "metadata": {},
   "outputs": [],
   "source": []
  }
 ]
}