{
 "metadata": {
  "language_info": {
   "codemirror_mode": {
    "name": "ipython",
    "version": 3
   },
   "file_extension": ".py",
   "mimetype": "text/x-python",
   "name": "python",
   "nbconvert_exporter": "python",
   "pygments_lexer": "ipython3",
   "version": "3.8.5"
  },
  "orig_nbformat": 2,
  "kernelspec": {
   "name": "python385jvsc74a57bd03df321b9eaf56a64feac71070fd48eda3ea5b4388dc29d543cdebb2a50fb1dfd",
   "display_name": "Python 3.8.5 64-bit"
  }
 },
 "nbformat": 4,
 "nbformat_minor": 2,
 "cells": [
  {
   "cell_type": "code",
   "execution_count": 20,
   "metadata": {},
   "outputs": [],
   "source": [
    "import utils\n",
    "interests = utils.loaddata(utils.interests)\n",
    "txs = utils.loaddata(utils.txs)\n",
    "list_txs = utils.group(txs)\n",
    "list_interests = utils.group(interests)\n",
    "del interests,txs"
   ]
  },
  {
   "cell_type": "code",
   "execution_count": 21,
   "metadata": {},
   "outputs": [],
   "source": [
    "list_txs = utils.reindex(list_txs)\n",
    "list_interests = utils.reindex(list_interests)\n",
    "list_txs[7] = list_txs[7].append(list_txs[8])\n",
    "del list_txs[8]"
   ]
  },
  {
   "cell_type": "code",
   "execution_count": 22,
   "metadata": {},
   "outputs": [],
   "source": [
    "list_txs.insert(6,list_txs[3])\n",
    "del list_txs[3]"
   ]
  },
  {
   "cell_type": "code",
   "execution_count": 23,
   "metadata": {},
   "outputs": [],
   "source": [
    "symbols = []\n",
    "comp_interest = []\n",
    "apys = []\n",
    "for i in list_interests:\n",
    "    symbols.append(i['SYMBOL'][0])\n",
    "    comp_interest.append(i['COMP'].mean())\n",
    "    apys.append(i['APY'].mean())"
   ]
  },
  {
   "cell_type": "code",
   "execution_count": 24,
   "metadata": {},
   "outputs": [
    {
     "output_type": "stream",
     "name": "stdout",
     "text": [
      "*****Market stats for the last 31 days*****\nMarket BAT: APY=0.62% || COMP Distribution APY=1.4165%\nMarket COMP: APY=0.83% || COMP Distribution APY=2.3473%\nMarket DAI: APY=5.59% || COMP Distribution APY=2.4641%\nMarket UNI: APY=0.23% || COMP Distribution APY=0.6140%\nMarket USDC: APY=7.98% || COMP Distribution APY=2.2798%\nMarket USDT: APY=7.72% || COMP Distribution APY=1.9823%\nMarket WBTC: APY=0.15% || COMP Distribution APY=0.3114%\nMarket WETH: APY=0.12% || COMP Distribution APY=0.2837%\nMarket ZRX: APY=0.82% || COMP Distribution APY=1.0987%\n"
     ]
    }
   ],
   "source": [
    "print('*****Market stats for the last 31 days*****')\n",
    "for i in range(len(list_interests)):\n",
    "    print('Market {}: APY={:.2f}% || COMP Distribution APY={:.4f}%'.format(symbols[i],apys[i],comp_interest[i]))"
   ]
  },
  {
   "cell_type": "code",
   "execution_count": 25,
   "metadata": {},
   "outputs": [
    {
     "output_type": "stream",
     "name": "stdout",
     "text": [
      "*****Accrued Value after 31 Days on 100K deposit*****\nMarket BAT: $172.97 USD\nMarket COMP: $269.80 USD\nMarket DAI: $684.03 USD\nMarket UNI: $71.27 USD\nMarket USDC: $871.76 USD\nMarket USDT: $824.29 USD\nMarket WBTC: $39.49 USD\nMarket WETH: $34.23 USD\nMarket ZRX: $162.66 USD\n"
     ]
    }
   ],
   "source": [
    "print('*****Accrued Value after 31 Days on 100K deposit*****')\n",
    "x = []\n",
    "for i in range(len(list_interests)):\n",
    "    tv = 100000 * 1/100*apys[i]/365*31 + 100000 * 31/365*comp_interest[i]/100\n",
    "    x.append(tv)\n",
    "    print('Market {}: ${:.2f} USD'.format(symbols[i],tv))"
   ]
  },
  {
   "cell_type": "code",
   "execution_count": 26,
   "metadata": {},
   "outputs": [
    {
     "output_type": "stream",
     "name": "stdout",
     "text": [
      "*****Expected ROI after 31 Days*****\nMarket BAT: expected ROI = 0.17\nMarket COMP: expected ROI = 0.27\nMarket DAI: expected ROI = 0.68\nMarket UNI: expected ROI = 0.07\nMarket USDC: expected ROI = 0.87\nMarket USDT: expected ROI = 0.82\nMarket WBTC: expected ROI = 0.04\nMarket WETH: expected ROI = 0.03\nMarket ZRX: expected ROI = 0.16\n"
     ]
    }
   ],
   "source": [
    "print('*****Expected ROI after 31 Days*****')\n",
    "for i in range(len(x)):\n",
    "    roi = x[i]/100000*100\n",
    "    print('Market {}: expected ROI = {:.2f}'.format(symbols[i],roi))"
   ]
  },
  {
   "cell_type": "code",
   "execution_count": 28,
   "metadata": {},
   "outputs": [
    {
     "output_type": "stream",
     "name": "stdout",
     "text": [
      "*****Expected ROI after 1 Year*****\nMarket BAT: expected ROI = 2.04\nMarket COMP: expected ROI = 3.18\nMarket DAI: expected ROI = 8.05\nMarket UNI: expected ROI = 0.84\nMarket USDC: expected ROI = 10.26\nMarket USDT: expected ROI = 9.71\nMarket WBTC: expected ROI = 0.46\nMarket WETH: expected ROI = 0.40\nMarket ZRX: expected ROI = 1.92\n"
     ]
    }
   ],
   "source": [
    "print('*****Expected ROI after 1 Year*****')\n",
    "for i in range(len(x)):\n",
    "    tv = 100000 * apys[i]/100 + 100000 * comp_interest[i]/100\n",
    "    roi = tv/100000*100\n",
    "    print('Market {}: expected ROI = {:.2f}'.format(symbols[i],roi))"
   ]
  },
  {
   "cell_type": "code",
   "execution_count": null,
   "metadata": {},
   "outputs": [],
   "source": []
  }
 ]
}